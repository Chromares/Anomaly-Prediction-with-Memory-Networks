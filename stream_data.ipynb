{
 "cells": [
  {
   "cell_type": "code",
   "execution_count": 7,
   "metadata": {},
   "outputs": [
    {
     "name": "stderr",
     "output_type": "stream",
     "text": [
      "Using TensorFlow backend.\n"
     ]
    }
   ],
   "source": [
    "from kafka import KafkaConsumer\n",
    "from kafka import KafkaProducer\n",
    "from kafka.errors import KafkaError\n",
    "import json\n",
    "from utils import lstm_encdec\n"
   ]
  },
  {
   "cell_type": "code",
   "execution_count": 8,
   "metadata": {},
   "outputs": [],
   "source": [
    "#152.46.18.175\n",
    "#9092\n",
    "ip = \"152.46.18.175\"\n",
    "port = 9092"
   ]
  },
  {
   "cell_type": "code",
   "execution_count": 9,
   "metadata": {},
   "outputs": [],
   "source": [
    "topic = 'kafkaApplication_server1'\n",
    "tapoc = 'kafkaApplication_server2'"
   ]
  },
  {
   "cell_type": "code",
   "execution_count": 10,
   "metadata": {},
   "outputs": [],
   "source": [
    "bootstrap_servers = ip + \":\" + str(port)"
   ]
  },
  {
   "cell_type": "code",
   "execution_count": 12,
   "metadata": {},
   "outputs": [
    {
     "name": "stdout",
     "output_type": "stream",
     "text": [
      "ConsumerRecord(topic='kafkaApplication_server1', partition=0, offset=4535, timestamp=1555823341500, timestamp_type=0, key=b'188C7399', value=b'[{\"values\":[2.7563025210084],\"dstypes\":[\"gauge\"],\"dsnames\":[\"value\"],\"time\":1555823341.500,\"interval\":60.000,\"host\":\"vm16-141.vcl.ncsu.edu\",\"plugin\":\"cpu\",\"plugin_instance\":\"\",\"type\":\"percent\",\"type_instance\":\"active\"}]', headers=[], checksum=None, serialized_key_size=8, serialized_value_size=219, serialized_header_size=-1)\n",
      "ConsumerRecord(topic='kafkaApplication_server1', partition=0, offset=4536, timestamp=1555823341500, timestamp_type=0, key=b'DE410B09', value=b'[{\"values\":[51.9547333457856],\"dstypes\":[\"gauge\"],\"dsnames\":[\"value\"],\"time\":1555823341.500,\"interval\":60.000,\"host\":\"vm16-141.vcl.ncsu.edu\",\"plugin\":\"memory\",\"plugin_instance\":\"\",\"type\":\"percent\",\"type_instance\":\"used\"}]', headers=[], checksum=None, serialized_key_size=8, serialized_value_size=221, serialized_header_size=-1)\n",
      "ConsumerRecord(topic='kafkaApplication_server1', partition=0, offset=4537, timestamp=1555823341500, timestamp_type=0, key=b'0E434ED8', value=b'[{\"values\":[7.28822368581336],\"dstypes\":[\"gauge\"],\"dsnames\":[\"value\"],\"time\":1555823341.500,\"interval\":60.000,\"host\":\"vm16-141.vcl.ncsu.edu\",\"plugin\":\"memory\",\"plugin_instance\":\"\",\"type\":\"percent\",\"type_instance\":\"buffered\"}]', headers=[], checksum=None, serialized_key_size=8, serialized_value_size=225, serialized_header_size=-1)\n",
      "ConsumerRecord(topic='kafkaApplication_server1', partition=0, offset=4538, timestamp=1555823341500, timestamp_type=0, key=b'6C63BF00', value=b'[{\"values\":[15.8327716283489],\"dstypes\":[\"gauge\"],\"dsnames\":[\"value\"],\"time\":1555823341.500,\"interval\":60.000,\"host\":\"vm16-141.vcl.ncsu.edu\",\"plugin\":\"memory\",\"plugin_instance\":\"\",\"type\":\"percent\",\"type_instance\":\"cached\"}]', headers=[], checksum=None, serialized_key_size=8, serialized_value_size=223, serialized_header_size=-1)\n",
      "ConsumerRecord(topic='kafkaApplication_server1', partition=0, offset=4539, timestamp=1555823341500, timestamp_type=0, key=b'790E6BCE', value=b'[{\"values\":[8.44059868276797],\"dstypes\":[\"gauge\"],\"dsnames\":[\"value\"],\"time\":1555823341.500,\"interval\":60.000,\"host\":\"vm16-141.vcl.ncsu.edu\",\"plugin\":\"memory\",\"plugin_instance\":\"\",\"type\":\"percent\",\"type_instance\":\"free\"}]', headers=[], checksum=None, serialized_key_size=8, serialized_value_size=221, serialized_header_size=-1)\n",
      "ConsumerRecord(topic='kafkaApplication_server1', partition=0, offset=4540, timestamp=1555823341500, timestamp_type=0, key=b'8BD78463', value=b'[{\"values\":[3.72674338338598],\"dstypes\":[\"gauge\"],\"dsnames\":[\"value\"],\"time\":1555823341.500,\"interval\":60.000,\"host\":\"vm16-141.vcl.ncsu.edu\",\"plugin\":\"memory\",\"plugin_instance\":\"\",\"type\":\"percent\",\"type_instance\":\"slab_unrecl\"}]', headers=[], checksum=None, serialized_key_size=8, serialized_value_size=228, serialized_header_size=-1)\n",
      "ConsumerRecord(topic='kafkaApplication_server1', partition=0, offset=4541, timestamp=1555823341500, timestamp_type=0, key=b'CEB754D6', value=b'[{\"values\":[12.7569292738982],\"dstypes\":[\"gauge\"],\"dsnames\":[\"value\"],\"time\":1555823341.500,\"interval\":60.000,\"host\":\"vm16-141.vcl.ncsu.edu\",\"plugin\":\"memory\",\"plugin_instance\":\"\",\"type\":\"percent\",\"type_instance\":\"slab_recl\"}]', headers=[], checksum=None, serialized_key_size=8, serialized_value_size=226, serialized_header_size=-1)\n",
      "ConsumerRecord(topic='kafkaApplication_server1', partition=0, offset=4542, timestamp=1555823401500, timestamp_type=0, key=b'0EF786D9', value=b'[{\"values\":[2.60723296888141],\"dstypes\":[\"gauge\"],\"dsnames\":[\"value\"],\"time\":1555823401.500,\"interval\":60.000,\"host\":\"vm16-141.vcl.ncsu.edu\",\"plugin\":\"cpu\",\"plugin_instance\":\"\",\"type\":\"percent\",\"type_instance\":\"active\"}]', headers=[], checksum=None, serialized_key_size=8, serialized_value_size=220, serialized_header_size=-1)\n",
      "ConsumerRecord(topic='kafkaApplication_server1', partition=0, offset=4543, timestamp=1555823401500, timestamp_type=0, key=b'5ED0A056', value=b'[{\"values\":[51.9181886841485],\"dstypes\":[\"gauge\"],\"dsnames\":[\"value\"],\"time\":1555823401.500,\"interval\":60.000,\"host\":\"vm16-141.vcl.ncsu.edu\",\"plugin\":\"memory\",\"plugin_instance\":\"\",\"type\":\"percent\",\"type_instance\":\"used\"}]', headers=[], checksum=None, serialized_key_size=8, serialized_value_size=221, serialized_header_size=-1)\n",
      "ConsumerRecord(topic='kafkaApplication_server1', partition=0, offset=4544, timestamp=1555823401500, timestamp_type=0, key=b'F4FEB370', value=b'[{\"values\":[7.29959313610044],\"dstypes\":[\"gauge\"],\"dsnames\":[\"value\"],\"time\":1555823401.500,\"interval\":60.000,\"host\":\"vm16-141.vcl.ncsu.edu\",\"plugin\":\"memory\",\"plugin_instance\":\"\",\"type\":\"percent\",\"type_instance\":\"buffered\"}]', headers=[], checksum=None, serialized_key_size=8, serialized_value_size=225, serialized_header_size=-1)\n",
      "ConsumerRecord(topic='kafkaApplication_server1', partition=0, offset=4545, timestamp=1555823401500, timestamp_type=0, key=b'E7369E4B', value=b'[{\"values\":[15.8360200427166],\"dstypes\":[\"gauge\"],\"dsnames\":[\"value\"],\"time\":1555823401.500,\"interval\":60.000,\"host\":\"vm16-141.vcl.ncsu.edu\",\"plugin\":\"memory\",\"plugin_instance\":\"\",\"type\":\"percent\",\"type_instance\":\"cached\"}]', headers=[], checksum=None, serialized_key_size=8, serialized_value_size=223, serialized_header_size=-1)\n",
      "ConsumerRecord(topic='kafkaApplication_server1', partition=0, offset=4546, timestamp=1555823401500, timestamp_type=0, key=b'FE71B54A', value=b'[{\"values\":[8.45278023664699],\"dstypes\":[\"gauge\"],\"dsnames\":[\"value\"],\"time\":1555823401.500,\"interval\":60.000,\"host\":\"vm16-141.vcl.ncsu.edu\",\"plugin\":\"memory\",\"plugin_instance\":\"\",\"type\":\"percent\",\"type_instance\":\"free\"}]', headers=[], checksum=None, serialized_key_size=8, serialized_value_size=221, serialized_header_size=-1)\n",
      "ConsumerRecord(topic='kafkaApplication_server1', partition=0, offset=4547, timestamp=1555823401500, timestamp_type=0, key=b'3BCA1F38', value=b'[{\"values\":[3.73648862648919],\"dstypes\":[\"gauge\"],\"dsnames\":[\"value\"],\"time\":1555823401.500,\"interval\":60.000,\"host\":\"vm16-141.vcl.ncsu.edu\",\"plugin\":\"memory\",\"plugin_instance\":\"\",\"type\":\"percent\",\"type_instance\":\"slab_unrecl\"}]', headers=[], checksum=None, serialized_key_size=8, serialized_value_size=228, serialized_header_size=-1)\n",
      "ConsumerRecord(topic='kafkaApplication_server1', partition=0, offset=4548, timestamp=1555823401500, timestamp_type=0, key=b'A332804E', value=b'[{\"values\":[12.7569292738982],\"dstypes\":[\"gauge\"],\"dsnames\":[\"value\"],\"time\":1555823401.500,\"interval\":60.000,\"host\":\"vm16-141.vcl.ncsu.edu\",\"plugin\":\"memory\",\"plugin_instance\":\"\",\"type\":\"percent\",\"type_instance\":\"slab_recl\"}]', headers=[], checksum=None, serialized_key_size=8, serialized_value_size=226, serialized_header_size=-1)\n"
     ]
    },
    {
     "ename": "KeyboardInterrupt",
     "evalue": "",
     "output_type": "error",
     "traceback": [
      "\u001b[0;31m---------------------------------------------------------------------------\u001b[0m",
      "\u001b[0;31mKeyboardInterrupt\u001b[0m                         Traceback (most recent call last)",
      "\u001b[0;32m<ipython-input-12-517c9a03d2eb>\u001b[0m in \u001b[0;36m<module>\u001b[0;34m\u001b[0m\n\u001b[1;32m      3\u001b[0m \u001b[0mconsumer\u001b[0m\u001b[0;34m.\u001b[0m\u001b[0msubscribe\u001b[0m\u001b[0;34m(\u001b[0m\u001b[0;34m[\u001b[0m\u001b[0mtopic\u001b[0m\u001b[0;34m]\u001b[0m\u001b[0;34m)\u001b[0m\u001b[0;34m\u001b[0m\u001b[0m\n\u001b[1;32m      4\u001b[0m \u001b[0;32mwhile\u001b[0m \u001b[0;32mTrue\u001b[0m\u001b[0;34m:\u001b[0m\u001b[0;34m\u001b[0m\u001b[0m\n\u001b[0;32m----> 5\u001b[0;31m     \u001b[0;32mfor\u001b[0m \u001b[0mms\u001b[0m \u001b[0;32min\u001b[0m \u001b[0mconsumer\u001b[0m\u001b[0;34m:\u001b[0m\u001b[0;34m\u001b[0m\u001b[0m\n\u001b[0m\u001b[1;32m      6\u001b[0m         \u001b[0mprint\u001b[0m\u001b[0;34m(\u001b[0m\u001b[0mms\u001b[0m\u001b[0;34m)\u001b[0m\u001b[0;34m\u001b[0m\u001b[0m\n",
      "\u001b[0;32m/usr/local/lib/python3.5/dist-packages/kafka/consumer/group.py\u001b[0m in \u001b[0;36m__next__\u001b[0;34m(self)\u001b[0m\n\u001b[1;32m   1118\u001b[0m         \u001b[0mself\u001b[0m\u001b[0;34m.\u001b[0m\u001b[0m_set_consumer_timeout\u001b[0m\u001b[0;34m(\u001b[0m\u001b[0;34m)\u001b[0m\u001b[0;34m\u001b[0m\u001b[0m\n\u001b[1;32m   1119\u001b[0m         \u001b[0;32mtry\u001b[0m\u001b[0;34m:\u001b[0m\u001b[0;34m\u001b[0m\u001b[0m\n\u001b[0;32m-> 1120\u001b[0;31m             \u001b[0;32mreturn\u001b[0m \u001b[0mnext\u001b[0m\u001b[0;34m(\u001b[0m\u001b[0mself\u001b[0m\u001b[0;34m.\u001b[0m\u001b[0m_iterator\u001b[0m\u001b[0;34m)\u001b[0m\u001b[0;34m\u001b[0m\u001b[0m\n\u001b[0m\u001b[1;32m   1121\u001b[0m         \u001b[0;32mexcept\u001b[0m \u001b[0mStopIteration\u001b[0m\u001b[0;34m:\u001b[0m\u001b[0;34m\u001b[0m\u001b[0m\n\u001b[1;32m   1122\u001b[0m             \u001b[0mself\u001b[0m\u001b[0;34m.\u001b[0m\u001b[0m_iterator\u001b[0m \u001b[0;34m=\u001b[0m \u001b[0;32mNone\u001b[0m\u001b[0;34m\u001b[0m\u001b[0m\n",
      "\u001b[0;32m/usr/local/lib/python3.5/dist-packages/kafka/consumer/group.py\u001b[0m in \u001b[0;36m_message_generator\u001b[0;34m(self)\u001b[0m\n\u001b[1;32m   1073\u001b[0m             \u001b[0;32mif\u001b[0m \u001b[0;32mnot\u001b[0m \u001b[0mself\u001b[0m\u001b[0;34m.\u001b[0m\u001b[0m_fetcher\u001b[0m\u001b[0;34m.\u001b[0m\u001b[0min_flight_fetches\u001b[0m\u001b[0;34m(\u001b[0m\u001b[0;34m)\u001b[0m\u001b[0;34m:\u001b[0m\u001b[0;34m\u001b[0m\u001b[0m\n\u001b[1;32m   1074\u001b[0m                 \u001b[0mpoll_ms\u001b[0m \u001b[0;34m=\u001b[0m \u001b[0mmin\u001b[0m\u001b[0;34m(\u001b[0m\u001b[0mpoll_ms\u001b[0m\u001b[0;34m,\u001b[0m \u001b[0mself\u001b[0m\u001b[0;34m.\u001b[0m\u001b[0mconfig\u001b[0m\u001b[0;34m[\u001b[0m\u001b[0;34m'reconnect_backoff_ms'\u001b[0m\u001b[0;34m]\u001b[0m\u001b[0;34m)\u001b[0m\u001b[0;34m\u001b[0m\u001b[0m\n\u001b[0;32m-> 1075\u001b[0;31m             \u001b[0mself\u001b[0m\u001b[0;34m.\u001b[0m\u001b[0m_client\u001b[0m\u001b[0;34m.\u001b[0m\u001b[0mpoll\u001b[0m\u001b[0;34m(\u001b[0m\u001b[0mtimeout_ms\u001b[0m\u001b[0;34m=\u001b[0m\u001b[0mpoll_ms\u001b[0m\u001b[0;34m)\u001b[0m\u001b[0;34m\u001b[0m\u001b[0m\n\u001b[0m\u001b[1;32m   1076\u001b[0m \u001b[0;34m\u001b[0m\u001b[0m\n\u001b[1;32m   1077\u001b[0m             \u001b[0;31m# after the long poll, we should check whether the group needs to rebalance\u001b[0m\u001b[0;34m\u001b[0m\u001b[0;34m\u001b[0m\u001b[0m\n",
      "\u001b[0;32m/usr/local/lib/python3.5/dist-packages/kafka/client_async.py\u001b[0m in \u001b[0;36mpoll\u001b[0;34m(self, timeout_ms, future)\u001b[0m\n\u001b[1;32m    591\u001b[0m                     \u001b[0mtimeout\u001b[0m \u001b[0;34m=\u001b[0m \u001b[0mmax\u001b[0m\u001b[0;34m(\u001b[0m\u001b[0;36m0\u001b[0m\u001b[0;34m,\u001b[0m \u001b[0mtimeout\u001b[0m \u001b[0;34m/\u001b[0m \u001b[0;36m1000\u001b[0m\u001b[0;34m)\u001b[0m  \u001b[0;31m# avoid negative timeouts\u001b[0m\u001b[0;34m\u001b[0m\u001b[0m\n\u001b[1;32m    592\u001b[0m \u001b[0;34m\u001b[0m\u001b[0m\n\u001b[0;32m--> 593\u001b[0;31m                 \u001b[0mself\u001b[0m\u001b[0;34m.\u001b[0m\u001b[0m_poll\u001b[0m\u001b[0;34m(\u001b[0m\u001b[0mtimeout\u001b[0m\u001b[0;34m)\u001b[0m\u001b[0;34m\u001b[0m\u001b[0m\n\u001b[0m\u001b[1;32m    594\u001b[0m \u001b[0;34m\u001b[0m\u001b[0m\n\u001b[1;32m    595\u001b[0m                 \u001b[0mresponses\u001b[0m\u001b[0;34m.\u001b[0m\u001b[0mextend\u001b[0m\u001b[0;34m(\u001b[0m\u001b[0mself\u001b[0m\u001b[0;34m.\u001b[0m\u001b[0m_fire_pending_completed_requests\u001b[0m\u001b[0;34m(\u001b[0m\u001b[0;34m)\u001b[0m\u001b[0;34m)\u001b[0m\u001b[0;34m\u001b[0m\u001b[0m\n",
      "\u001b[0;32m/usr/local/lib/python3.5/dist-packages/kafka/client_async.py\u001b[0m in \u001b[0;36m_poll\u001b[0;34m(self, timeout)\u001b[0m\n\u001b[1;32m    612\u001b[0m \u001b[0;34m\u001b[0m\u001b[0m\n\u001b[1;32m    613\u001b[0m         \u001b[0mstart_select\u001b[0m \u001b[0;34m=\u001b[0m \u001b[0mtime\u001b[0m\u001b[0;34m.\u001b[0m\u001b[0mtime\u001b[0m\u001b[0;34m(\u001b[0m\u001b[0;34m)\u001b[0m\u001b[0;34m\u001b[0m\u001b[0m\n\u001b[0;32m--> 614\u001b[0;31m         \u001b[0mready\u001b[0m \u001b[0;34m=\u001b[0m \u001b[0mself\u001b[0m\u001b[0;34m.\u001b[0m\u001b[0m_selector\u001b[0m\u001b[0;34m.\u001b[0m\u001b[0mselect\u001b[0m\u001b[0;34m(\u001b[0m\u001b[0mtimeout\u001b[0m\u001b[0;34m)\u001b[0m\u001b[0;34m\u001b[0m\u001b[0m\n\u001b[0m\u001b[1;32m    615\u001b[0m         \u001b[0mend_select\u001b[0m \u001b[0;34m=\u001b[0m \u001b[0mtime\u001b[0m\u001b[0;34m.\u001b[0m\u001b[0mtime\u001b[0m\u001b[0;34m(\u001b[0m\u001b[0;34m)\u001b[0m\u001b[0;34m\u001b[0m\u001b[0m\n\u001b[1;32m    616\u001b[0m         \u001b[0;32mif\u001b[0m \u001b[0mself\u001b[0m\u001b[0;34m.\u001b[0m\u001b[0m_sensors\u001b[0m\u001b[0;34m:\u001b[0m\u001b[0;34m\u001b[0m\u001b[0m\n",
      "\u001b[0;32m/usr/lib/python3.5/selectors.py\u001b[0m in \u001b[0;36mselect\u001b[0;34m(self, timeout)\u001b[0m\n\u001b[1;32m    439\u001b[0m             \u001b[0mready\u001b[0m \u001b[0;34m=\u001b[0m \u001b[0;34m[\u001b[0m\u001b[0;34m]\u001b[0m\u001b[0;34m\u001b[0m\u001b[0m\n\u001b[1;32m    440\u001b[0m             \u001b[0;32mtry\u001b[0m\u001b[0;34m:\u001b[0m\u001b[0;34m\u001b[0m\u001b[0m\n\u001b[0;32m--> 441\u001b[0;31m                 \u001b[0mfd_event_list\u001b[0m \u001b[0;34m=\u001b[0m \u001b[0mself\u001b[0m\u001b[0;34m.\u001b[0m\u001b[0m_epoll\u001b[0m\u001b[0;34m.\u001b[0m\u001b[0mpoll\u001b[0m\u001b[0;34m(\u001b[0m\u001b[0mtimeout\u001b[0m\u001b[0;34m,\u001b[0m \u001b[0mmax_ev\u001b[0m\u001b[0;34m)\u001b[0m\u001b[0;34m\u001b[0m\u001b[0m\n\u001b[0m\u001b[1;32m    442\u001b[0m             \u001b[0;32mexcept\u001b[0m \u001b[0mInterruptedError\u001b[0m\u001b[0;34m:\u001b[0m\u001b[0;34m\u001b[0m\u001b[0m\n\u001b[1;32m    443\u001b[0m                 \u001b[0;32mreturn\u001b[0m \u001b[0mready\u001b[0m\u001b[0;34m\u001b[0m\u001b[0m\n",
      "\u001b[0;31mKeyboardInterrupt\u001b[0m: "
     ]
    }
   ],
   "source": [
    "consumer = KafkaConsumer(topic, auto_offset_reset='latest',\n",
    "                                        bootstrap_servers=[bootstrap_servers])\n",
    "consumer.subscribe([topic])\n",
    "while True:\n",
    "    for ms in consumer:\n",
    "        print(ms)"
   ]
  },
  {
   "cell_type": "code",
   "execution_count": null,
   "metadata": {},
   "outputs": [],
   "source": []
  }
 ],
 "metadata": {
  "kernelspec": {
   "display_name": "Python 3",
   "language": "python",
   "name": "python3"
  },
  "language_info": {
   "codemirror_mode": {
    "name": "ipython",
    "version": 3
   },
   "file_extension": ".py",
   "mimetype": "text/x-python",
   "name": "python",
   "nbconvert_exporter": "python",
   "pygments_lexer": "ipython3",
   "version": "3.5.2"
  }
 },
 "nbformat": 4,
 "nbformat_minor": 2
}
